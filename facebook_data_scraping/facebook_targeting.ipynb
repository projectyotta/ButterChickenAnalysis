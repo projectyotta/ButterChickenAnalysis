{
 "cells": [
  {
   "cell_type": "markdown",
   "metadata": {},
   "source": [
    "### Facebook targeting \n",
    "What kind of information can we gather from people who have shown interest in Indaroma \n"
   ]
  },
  {
   "cell_type": "code",
   "execution_count": null,
   "metadata": {
    "collapsed": true
   },
   "outputs": [],
   "source": [
    "from bs4 import BeautifulSoup\n",
    "import re"
   ]
  },
  {
   "cell_type": "code",
   "execution_count": 8,
   "metadata": {},
   "outputs": [
    {
     "name": "stdout",
     "output_type": "stream",
     "text": [
      "https://www.facebook.com/janine.sierragranados?\n",
      "https://www.facebook.com/maranda214?\n",
      "https://www.facebook.com/debra.mayberry?\n",
      "https://www.facebook.com/reeti.luthra?\n",
      "https://www.facebook.com/roxana.romero.7796?\n",
      "https://www.facebook.com/amina.oukss?\n",
      "https://www.facebook.com/sanaa.ahmad.1272010?\n",
      "https://www.facebook.com/hanaa.nabil.792?\n",
      "https://www.facebook.com/profile.php?id=100025430805493&amp;\n",
      "https://www.facebook.com/profile.php?id=5727857&amp;\n",
      "https://www.facebook.com/somboun.sengkeothai.96?\n",
      "https://www.facebook.com/ubonrat.ngarmdee?\n",
      "https://www.facebook.com/consuelo.lorenzo.96?\n",
      "https://www.facebook.com/tiffany.wilburn?\n",
      "https://www.facebook.com/diamond.jones.7965?\n",
      "https://www.facebook.com/millie.singh.75?\n",
      "https://www.facebook.com/tanuja.saney.5?\n",
      "https://www.facebook.com/janaki.kandel.790?\n",
      "https://www.facebook.com/megan.shipley?\n",
      "https://www.facebook.com/sonali.malhotra.944?\n",
      "https://www.facebook.com/edith.calderon.712?\n",
      "https://www.facebook.com/profile.php?id=100008531527979&amp;\n",
      "https://www.facebook.com/mari.harsan?\n"
     ]
    }
   ],
   "source": [
    "# People who have liked a post - get their facebook profile information.\n",
    "\n",
    "# This is a static web page that I am extracting information from.\n",
    "# The same process can just as easily be applied to a live web page \n",
    "# The webpage used below is for all the likes on a post by indaroma \n",
    "\n",
    "\n",
    "link = \"C:\\\\Users\\\\raosa\\\\Desktop\\\\wapp\\\\Facebook.html\"\n",
    "soup = BeautifulSoup(open(link, errors='ignore'), \"html.parser\")\n",
    "test = soup.find_all(\"a\",{'aria-hidden':'true'})\n",
    "for i in range(0,len(test)):\n",
    "    test1 = test[i]\n",
    "    result = re.search('href=\"(.*)?fref', str(test1))\n",
    "    print (result.group(1))"
   ]
  },
  {
   "cell_type": "code",
   "execution_count": 31,
   "metadata": {},
   "outputs": [
    {
     "name": "stdout",
     "output_type": "stream",
     "text": [
      "https://www.facebook.com/profile.php?id=100025430805493&amp;\n",
      "https://www.facebook.com/dilma.espinoza.75?\n",
      "https://www.facebook.com/profile.php?id=100025430805493&amp;\n",
      "https://www.facebook.com/profile.php?id=100025430805493&amp;\n",
      "https://www.facebook.com/keydanory.gonzalez?\n",
      "https://www.facebook.com/profile.php?id=100009338745216&amp;\n",
      "https://www.facebook.com/profile.php?id=100016928591482&amp;\n",
      "https://www.facebook.com/profile.php?id=100016674004477&amp;\n",
      "https://www.facebook.com/aracely.herrera.96930?\n",
      "https://www.facebook.com/profile.php?id=100022674796750&amp;\n",
      "https://www.facebook.com/brenda.aragon?\n",
      "https://www.facebook.com/brenda.rosales.50552?\n",
      "https://www.facebook.com/fatima.vasquez.712161?\n"
     ]
    }
   ],
   "source": [
    "# For a single person who has liked a post , this is how you get a list of all of their friends. \n",
    "# The intention here is that if their friends are also likely to be interested in Indian food , we can target them too. \n",
    "\n",
    "# test for friends of friends \n",
    "\n",
    "link = \"C:\\\\Users\\\\raosa\\\\Desktop\\\\wapp\\\\fof.html\"\n",
    "soup = BeautifulSoup(open(link, errors='ignore'), \"html.parser\")\n",
    "\n",
    "test = soup.find_all(\"a\",{'aria-hidden':'true'})\n",
    "for i in range(0,15):\n",
    "    test1 = test[i]\n",
    "    result = re.search('href=\"(.*)?fref', str(test1))\n",
    "    \n",
    "    try:\n",
    "        print (result.group(1))\n",
    "    except AttributeError:\n",
    "        continue"
   ]
  },
  {
   "cell_type": "code",
   "execution_count": 26,
   "metadata": {},
   "outputs": [
    {
     "data": {
      "text/plain": [
       "'New Delhi, India'"
      ]
     },
     "execution_count": 26,
     "metadata": {},
     "output_type": "execute_result"
    }
   ],
   "source": [
    "# Getting the location of a user who has liked a post \n",
    "# test to see if we can get the location - home town . \n",
    "# The idea behind identifying hometown is to understand if it is India - then more likely to like Indian food . \n",
    "\n",
    "link = \"C:\\\\Users\\\\raosa\\\\Desktop\\\\wapp\\\\location_test.html\"\n",
    "soup = BeautifulSoup(open(link, errors='ignore'), \"html.parser\")\n",
    "test = soup.find_all(\"a\",{'class':'profileLink'})\n",
    "# output_location = BeautifulSoup(test[4], \"html.parser\")\n",
    "\n",
    "output_location = BeautifulSoup(str(test[4]), \"html.parser\")\n",
    "output_location.find(\"a\", {\"class\": 'profileLink'}).text"
   ]
  },
  {
   "cell_type": "code",
   "execution_count": 29,
   "metadata": {},
   "outputs": [
    {
     "data": {
      "text/plain": [
       "'Springfield, Virginia'"
      ]
     },
     "execution_count": 29,
     "metadata": {},
     "output_type": "execute_result"
    }
   ],
   "source": [
    "# current city \n",
    "# note , check if string contains current city and home city to identify what kind of locations we should target  \n",
    "\n",
    "\n",
    "link = \"C:\\\\Users\\\\raosa\\\\Desktop\\\\wapp\\\\loc_test_2.html\"\n",
    "soup = BeautifulSoup(open(link, errors='ignore'), \"html.parser\")\n",
    "test = soup.find_all(\"a\",{'class':'profileLink'})\n",
    "output_location = BeautifulSoup(str(test[5]), \"html.parser\")\n",
    "output_location.find(\"a\", {\"class\": 'profileLink'}).text"
   ]
  },
  {
   "cell_type": "code",
   "execution_count": 30,
   "metadata": {},
   "outputs": [
    {
     "name": "stdout",
     "output_type": "stream",
     "text": [
      "https://www.facebook.com/ndrgrnd/?\n",
      "https://www.facebook.com/doornroosje.planet.rose/?\n",
      "https://www.facebook.com/van9tot5/?\n",
      "https://www.facebook.com/rijschoolwesteraam/?\n",
      "https://www.facebook.com/Sushicarre/?\n",
      "https://www.facebook.com/FashionchickUK/?\n",
      "https://www.facebook.com/oxfamnovib/?\n",
      "https://www.facebook.com/deutnijmegen/?\n",
      "https://www.facebook.com/ASANijmegen/?\n",
      "https://www.facebook.com/sassysocialistmemes/?\n",
      "https://www.facebook.com/searangersorg/?\n",
      "https://www.facebook.com/lessismorenijmegen/?\n",
      "https://www.facebook.com/VierdaagseNijmegen/?\n",
      "https://www.facebook.com/nayyirah-waheed-1605290489709406/?\n",
      "https://www.facebook.com/healthinut/?\n",
      "https://www.facebook.com/magnetdotme/?\n",
      "https://www.facebook.com/bogersverhuursteenbergen/?\n",
      "https://www.facebook.com/elstsfeervol/?\n",
      "https://www.facebook.com/KinlayHouseDublin/?\n",
      "https://www.facebook.com/wiezewasjes/?\n",
      "https://www.facebook.com/ruokday/?\n",
      "https://www.facebook.com/jochem.myjer/?\n",
      "https://www.facebook.com/Yoinscollection/?\n",
      "https://www.facebook.com/degroenemeisjes/?\n",
      "https://www.facebook.com/fictionbakes/?\n",
      "https://www.facebook.com/Bogers-Handelsonderneming-Home-796748383781180/?\n",
      "https://www.facebook.com/caminoaholanda/?\n",
      "https://www.facebook.com/cosmopolitan.nl/?\n",
      "https://www.facebook.com/avocadofruitoflife/?\n",
      "https://www.facebook.com/SocialDealInt/?\n",
      "https://www.facebook.com/despeld/?\n",
      "https://www.facebook.com/karpenoktem/?\n",
      "https://www.facebook.com/stagehuis/?\n",
      "https://www.facebook.com/baazmag/?\n",
      "https://www.facebook.com/Geografun/?\n",
      "https://www.facebook.com/GespotUBRU/?\n",
      "https://www.facebook.com/kakhiel/?\n",
      "https://www.facebook.com/careerservicefdm/?\n",
      "https://www.facebook.com/eigentijdsejongeren/?\n",
      "https://www.facebook.com/shamrocknijmegen/?\n",
      "https://www.facebook.com/INGnl/?\n",
      "https://www.facebook.com/Freshhhmag/?\n",
      "https://www.facebook.com/sexyintelligence/?\n",
      "https://www.facebook.com/businessinsider/?\n",
      "https://www.facebook.com/kayak/?\n",
      "https://www.facebook.com/meesterbartschrijft/?\n",
      "https://www.facebook.com/bydaisies/?\n",
      "https://www.facebook.com/ikwilmeerreizen/?\n",
      "https://www.facebook.com/YoungCapital/?\n",
      "https://www.facebook.com/cafevanrijn/?\n",
      "https://www.facebook.com/Nijmegenunimemes/?\n",
      "https://www.facebook.com/Allerhande/?\n",
      "https://www.facebook.com/radboudreflects/?\n",
      "https://www.facebook.com/StudentProblems/?\n",
      "https://www.facebook.com/studentsbelike/?\n",
      "https://www.facebook.com/boredpanda/?\n",
      "https://www.facebook.com/salonbnederland/?\n",
      "https://www.facebook.com/UnderTheDomeCBS/?\n",
      "https://www.facebook.com/BreakingBad/?\n",
      "https://www.facebook.com/buzzfeedtasty/?\n",
      "https://www.facebook.com/epiguesthouse/?\n",
      "https://www.facebook.com/volkskrant/?\n",
      "https://www.facebook.com/woninghureninnijmegen/?\n",
      "https://www.facebook.com/SiaMusic/?\n",
      "https://www.facebook.com/officialgoldenretriever/?\n",
      "https://www.facebook.com/afvallenmetjasper/?\n",
      "https://www.facebook.com/CultuuropdeCampus/?\n",
      "https://www.facebook.com/iamiskra/?\n",
      "https://www.facebook.com/vrijwilligerPRA/?\n",
      "https://www.facebook.com/escapebootnijmegen/?\n",
      "https://www.facebook.com/lindanieuws/?\n",
      "https://www.facebook.com/karaktercuracao/?\n",
      "https://www.facebook.com/WorldAnimalProtectionNederland/?\n",
      "https://www.facebook.com/liefwerk/?\n",
      "https://www.facebook.com/themonksbunk/?\n",
      "https://www.facebook.com/theinksocietyNL/?\n",
      "https://www.facebook.com/FOODbible/?\n",
      "https://www.facebook.com/koekvanloek/?\n",
      "https://www.facebook.com/womenshealthmagazine/?\n",
      "https://www.facebook.com/AvalonHouseDublin/?\n",
      "https://www.facebook.com/lifehackorg/?\n",
      "https://www.facebook.com/pages/Dublin-Ireland/110769888951990?\n",
      "https://www.facebook.com/aegeenijmegen/?\n",
      "https://www.facebook.com/921citi/?\n",
      "https://www.facebook.com/AussieHair/?\n",
      "https://www.facebook.com/ofmonstersandmen/?\n",
      "https://www.facebook.com/UnitedWardrobe/?\n",
      "https://www.facebook.com/honigcomplex/?\n",
      "https://www.facebook.com/jamieoliver/?\n",
      "https://www.facebook.com/OfficialAdamLevine/?\n",
      "https://www.facebook.com/mudmastersnl/?\n",
      "https://www.facebook.com/kilroynetherlands/?\n",
      "https://www.facebook.com/Travelpirates/?\n",
      "https://www.facebook.com/rufdm/?\n",
      "https://www.facebook.com/nevschulman/?\n",
      "https://www.facebook.com/testersgezocht/?\n",
      "https://www.facebook.com/3opreis/?\n",
      "https://www.facebook.com/DWDD/?\n",
      "https://www.facebook.com/luckytv/?\n",
      "https://www.facebook.com/bartclaessen/?\n",
      "https://www.facebook.com/LADbible/?\n",
      "https://www.facebook.com/TivoliVredenburgUtrecht/?\n",
      "https://www.facebook.com/doornroosjenl/?\n",
      "https://www.facebook.com/SzigetFestival/?\n",
      "https://www.facebook.com/Healthy-Food-Style-1443941939154744/?\n",
      "https://www.facebook.com/StudeerSnel/?\n",
      "https://www.facebook.com/DeGelagkamerNijmegen/?\n",
      "https://www.facebook.com/8fact/?\n",
      "https://www.facebook.com/RadboudUniversiteitIntroductie/?\n",
      "https://www.facebook.com/tiesto/?\n",
      "https://www.facebook.com/3Gezusters/?\n",
      "https://www.facebook.com/cafedefuik/?\n",
      "https://www.facebook.com/parkamsee/?\n",
      "https://www.facebook.com/nknewsorg/?\n",
      "https://www.facebook.com/bakermatmusic/?\n",
      "https://www.facebook.com/NSMBL/?\n",
      "https://www.facebook.com/AustralianBackpackersNederland/?\n",
      "https://www.facebook.com/humansofnewyork/?\n",
      "https://www.facebook.com/gladiatormovie/?\n",
      "https://www.facebook.com/Rondreis.nl/?\n",
      "https://www.facebook.com/ActivityInternational/?\n",
      "https://www.facebook.com/mugglenet/?\n",
      "https://www.facebook.com/IFeakingLoveScience/?\n",
      "https://www.facebook.com/grandcafemoenen/?\n",
      "https://www.facebook.com/MickOconnellsUtrecht/?\n",
      "https://www.facebook.com/HavanaUtrecht/?\n",
      "https://www.facebook.com/DavidUzochukwuPhotography/?\n",
      "https://www.facebook.com/scrubs/?\n",
      "https://www.facebook.com/wereldnatuurfonds/?\n",
      "https://www.facebook.com/WakkerDier/?\n",
      "https://www.facebook.com/AwesomeHairstyleIdeas/?\n",
      "https://www.facebook.com/4funsociety/?\n",
      "https://www.facebook.com/Ellie-Goulding-1375493146015436/?\n",
      "https://www.facebook.com/swedishhousemafia/?\n",
      "https://www.facebook.com/avicii/?\n",
      "https://www.facebook.com/lanadelreyfans/?\n",
      "https://www.facebook.com/UUGeo/?\n",
      "https://www.facebook.com/duurzaamstorm/?\n",
      "https://www.facebook.com/lanadelrey/?\n",
      "https://www.facebook.com/UtrechtUniversity/?\n",
      "https://www.facebook.com/seeedde/?\n",
      "https://www.facebook.com/Gewoonwateenstudentjesavondseet/?\n",
      "https://www.facebook.com/Orgaandonor-112631102136430/?\n",
      "https://www.facebook.com/JeBentEenVrijeSchoolLeerlingAlsJe/?\n",
      "https://www.facebook.com/WarnerBrosPictures/?\n"
     ]
    }
   ],
   "source": [
    "# pages liked by a person \n",
    "\n",
    "# pages that have been liked by a person . This might not be public information that is available to everyone. \n",
    "# Can try to figure out a way to get this information from profiles that are not friends. \n",
    "\n",
    "\n",
    "link = \"C://Users//raosa//Desktop//wapp/yanda_likes.html\"\n",
    "soup = BeautifulSoup(open(link, errors='ignore'), \"html.parser\")\n",
    "\n",
    "test = soup.find_all(\"a\",{'aria-hidden':'true'})\n",
    "for i in range(0,len(test)):\n",
    "    test1 = test[i]\n",
    "    result = re.search('href=\"(.*)?fref', str(test1))\n",
    "    \n",
    "    try:\n",
    "        print (result.group(1))\n",
    "    except AttributeError:\n",
    "        continue"
   ]
  },
  {
   "cell_type": "code",
   "execution_count": null,
   "metadata": {
    "collapsed": true
   },
   "outputs": [],
   "source": []
  }
 ],
 "metadata": {
  "kernelspec": {
   "display_name": "Python 3",
   "language": "python",
   "name": "python3"
  },
  "language_info": {
   "codemirror_mode": {
    "name": "ipython",
    "version": 3
   },
   "file_extension": ".py",
   "mimetype": "text/x-python",
   "name": "python",
   "nbconvert_exporter": "python",
   "pygments_lexer": "ipython3",
   "version": "3.6.4"
  }
 },
 "nbformat": 4,
 "nbformat_minor": 2
}
